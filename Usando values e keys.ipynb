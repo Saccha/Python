{
  "nbformat": 4,
  "nbformat_minor": 0,
  "metadata": {
    "colab": {
      "name": "Untitled4.ipynb",
      "provenance": [],
      "collapsed_sections": [],
      "authorship_tag": "ABX9TyNin56xTeSS9lOLdJ2Axu6Y",
      "include_colab_link": true
    },
    "kernelspec": {
      "name": "python3",
      "display_name": "Python 3"
    }
  },
  "cells": [
    {
      "cell_type": "markdown",
      "metadata": {
        "id": "view-in-github",
        "colab_type": "text"
      },
      "source": [
        "<a href=\"https://colab.research.google.com/github/Saccha/Python/blob/main/Usando%20values%20e%20keys.ipynb\" target=\"_parent\"><img src=\"https://colab.research.google.com/assets/colab-badge.svg\" alt=\"Open In Colab\"/></a>"
      ]
    },
    {
      "cell_type": "code",
      "metadata": {
        "colab": {
          "base_uri": "https://localhost:8080/"
        },
        "id": "5pc7YTCTLRnT",
        "outputId": "3c4dc35e-18c5-4324-fd14-157244856e59"
      },
      "source": [
        "agenda = {'Maria': ['Python'],\n",
        "          'Jose':  ['Ruby'],\n",
        "          'Mauro': ['PHP'],\n",
        "          'Ana': ['Javascript'],\n",
        "          'Mario':   ['Pascal']}\n",
        "chaves = list(agenda.keys())\n",
        "valores = list(agenda.values())\n",
        "print(chaves)\n",
        "print(valores)"
      ],
      "execution_count": 22,
      "outputs": [
        {
          "output_type": "stream",
          "text": [
            "['Maria', 'Jose', 'Mauro', 'Ana', 'Mario']\n",
            "[['Python'], ['Ruby'], ['PHP'], ['Javascript'], ['Pascal']]\n"
          ],
          "name": "stdout"
        }
      ]
    },
    {
      "cell_type": "code",
      "metadata": {
        "colab": {
          "base_uri": "https://localhost:8080/"
        },
        "id": "S73EgXeENKGH",
        "outputId": "60a35f35-6fc4-482e-b080-1f3cc76e1c7f"
      },
      "source": [
        "pessoas = {}\n",
        "i = 0\n",
        "while i < 5:    # Lê o nome de 5 pessoas e as linguagens que as pessoas programam\n",
        "\tnome = input('\\nNome da pessoa: ')\n",
        "\tlinguagem = input('Linguagem que programa: ')\n",
        "\tpessoas[nome]=[str(linguagem)]\n",
        "\ti += 1\n",
        "print(\"\\nLista de pessoas:\" ,pessoas)"
      ],
      "execution_count": 23,
      "outputs": [
        {
          "output_type": "stream",
          "text": [
            "\n",
            "Nome da pessoa: Ana\n",
            "Linguagem que programa: Java\n",
            "\n",
            "Nome da pessoa: Beatriz\n",
            "Linguagem que programa: Python\n",
            "\n",
            "Nome da pessoa: Caio\n",
            "Linguagem que programa: JavaScript\n",
            "\n",
            "Nome da pessoa: Dario\n",
            "Linguagem que programa: Kotlin\n",
            "\n",
            "Nome da pessoa: Fabi\n",
            "Linguagem que programa: Csharp\n",
            "\n",
            "Lista de pessoas: {'Ana': ['Java'], 'Beatriz': ['Python'], 'Caio': ['JavaScript'], 'Dario': ['Kotlin'], 'Fabi': ['Csharp']}\n"
          ],
          "name": "stdout"
        }
      ]
    }
  ]
}